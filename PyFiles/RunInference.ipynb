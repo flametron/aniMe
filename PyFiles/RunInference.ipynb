{
  "nbformat": 4,
  "nbformat_minor": 0,
  "metadata": {
    "colab": {
      "name": "RunInference.ipynb",
      "provenance": []
    },
    "kernelspec": {
      "name": "python3",
      "display_name": "Python 3"
    }
  },
  "cells": [
    {
      "cell_type": "code",
      "metadata": {
        "id": "nHGf_FGDSF5N"
      },
      "source": [
        "import numpy as np\n",
        "import matplotlib.pyplot as plt"
      ],
      "execution_count": null,
      "outputs": []
    },
    {
      "cell_type": "code",
      "metadata": {
        "id": "g6rvi-bFSicv"
      },
      "source": [
        "def load_image(path):\n",
        "  image_raw = tf.io.read_file(path)\n",
        "  image = tf.image.decode_image(image_raw, channels=3)\n",
        "  return image"
      ],
      "execution_count": null,
      "outputs": []
    },
    {
      "cell_type": "code",
      "metadata": {
        "id": "JGfuiQKDSjlL"
      },
      "source": [
        "test_image_original = load_image(\"\")#TODO:add the path to your image \n",
        "print(test_image_original.shape)\n",
        "plt.imshow(test_image_original)\n",
        "plt.show()"
      ],
      "execution_count": null,
      "outputs": []
    },
    {
      "cell_type": "code",
      "metadata": {
        "id": "jqlo1TgvSvAI"
      },
      "source": [
        "#PRE-PROCESS THE IMAGE\n",
        "def resize(image):\n",
        "    resized_image =  tf.image.resize(image, [256, 256], method=tf.image.ResizeMethod.NEAREST_NEIGHBOR)\n",
        "    resized_image = tf.cast(resized_image, tf.float32)\n",
        "    resized_image = tf.expand_dims(resized_image, 0)\n",
        "\n",
        "    return resized_image"
      ],
      "execution_count": null,
      "outputs": []
    },
    {
      "cell_type": "code",
      "metadata": {
        "id": "5Yu6u4qzS1In"
      },
      "source": [
        "test_image_resized = resize(test_image_original)\n",
        "test_image_resized.shape"
      ],
      "execution_count": null,
      "outputs": []
    },
    {
      "cell_type": "code",
      "metadata": {
        "id": "Wcg4KyQRS4W2"
      },
      "source": [
        "#RUN INFERENCE\n",
        "with tf.io.gfile.GFile('selfie2anime.tflite', 'rb') as f:\n",
        "    model_content = f.read()\n",
        "\n",
        "# Initialze TensorFlow Lite inpterpreter.\n",
        "interpreter = tf.lite.Interpreter(model_content=model_content)\n",
        "interpreter.allocate_tensors()\n",
        "input_index = interpreter.get_input_details()[0]['index']\n",
        "output = interpreter.tensor(interpreter.get_output_details()[0][\"index\"])\n",
        "\n",
        "# Set model input\n",
        "interpreter.set_tensor(input_index, test_image_resized)\n",
        "\n",
        "# Run inference\n",
        "interpreter.invoke()\n",
        "\n",
        "# Visualize results\n",
        "plt.subplot(121)\n",
        "plt.title('Selfie')\n",
        "plt.imshow(test_image_original)\n",
        "\n",
        "plt.subplot(122)\n",
        "plt.title('Anime')"
      ],
      "execution_count": null,
      "outputs": []
    }
  ]
}